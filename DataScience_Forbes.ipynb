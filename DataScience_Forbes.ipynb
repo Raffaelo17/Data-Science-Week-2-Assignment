{
  "nbformat": 4,
  "nbformat_minor": 0,
  "metadata": {
    "colab": {
      "provenance": []
    },
    "kernelspec": {
      "name": "python3",
      "display_name": "Python 3"
    },
    "language_info": {
      "name": "python"
    }
  },
  "cells": [
    {
      "cell_type": "code",
      "execution_count": 1,
      "metadata": {
        "id": "NVgHP5bwrbA1"
      },
      "outputs": [],
      "source": [
        "from bs4 import BeautifulSoup\n",
        "import requests\n",
        "import re\n",
        "import pandas as pd"
      ]
    },
    {
      "cell_type": "code",
      "source": [
        "# Downloading forbes.com\n",
        "headers = {'Accept-Languange': 'en-US,en;q=0.8'}\n",
        "url = 'https://www.forbes.com/?sh=257232092254'\n",
        "response = requests.get(url,headers=headers)\n",
        "soup = BeautifulSoup(response.text, \"html.parser\")"
      ],
      "metadata": {
        "id": "V3T_pzIoriIr"
      },
      "execution_count": 8,
      "outputs": []
    },
    {
      "cell_type": "code",
      "source": [
        "# Extract the number of titles\n",
        "newstitle = soup.select('a.headlink')\n",
        "print(newstitle[0])"
      ],
      "metadata": {
        "colab": {
          "base_uri": "https://localhost:8080/"
        },
        "id": "EqOJhW03rpng",
        "outputId": "8796b0b3-59c9-4798-90a9-783406e877e1"
      },
      "execution_count": 11,
      "outputs": [
        {
          "output_type": "stream",
          "name": "stdout",
          "text": [
            "<a class=\"headlink h1--dense card__color--#00808a\" data-ga-track=\"Cover Story - blog - Position 0 - The Drive-Thru Billionaire Who’s Trying To Save Subway\" href=\"https://www.forbes.com/sites/chloesorvino/2023/09/20/the-drive-thru-billionaire-whos-trying-to-save-subway/\">The Drive-Thru Billionaire Who’s Trying To Save Subway</a>\n"
          ]
        }
      ]
    },
    {
      "cell_type": "code",
      "source": [
        "# Get Links\n",
        "text = soup.select('a.headlink')\n",
        "print(text)"
      ],
      "metadata": {
        "colab": {
          "base_uri": "https://localhost:8080/"
        },
        "id": "7chmag_Xuykw",
        "outputId": "c119b152-9ef3-4e41-d7e4-afbf4e2684c4"
      },
      "execution_count": 25,
      "outputs": [
        {
          "output_type": "stream",
          "name": "stdout",
          "text": [
            "[<a class=\"headlink h1--dense card__color--#00808a\" data-ga-track=\"Cover Story - blog - Position 0 - The Drive-Thru Billionaire Who’s Trying To Save Subway\" href=\"https://www.forbes.com/sites/chloesorvino/2023/09/20/the-drive-thru-billionaire-whos-trying-to-save-subway/\">The Drive-Thru Billionaire Who’s Trying To Save Subway</a>, <a class=\"headlink\" data-ga-track=\"Homepage Forbes List - The Lawyer Taking On The Class Action Racket\" href=\"https://www.forbes.com/sites/baldwin/2023/09/20/the-lawyer-taking-on-the-class-action-racket/\"><h3 class=\"h3--dense\">The Lawyer Taking On The Class Action Racket</h3></a>, <a class=\"headlink\" data-ga-track=\"Channel - Block B - video - Position 1 - We Can Build A 'Better' Roe v. Wade, Says Planned Parenthood's Alexis McGill Johnson\" href=\"https://www.forbes.com/video/6337381442112/\"><div class=\"wrap-text\"><h3 class=\"video-h3--dense\" data-ga-track=\"Channel - Block B - video - Position 1 - We Can Build A 'Better' Roe v. Wade, Says Planned Parenthood's Alexis McGill Johnson\"><span class=\"video-title\" data-ga-track=\"Channel - Block B - video - Position 1 - We Can Build A 'Better' Roe v. Wade, Says Planned Parenthood's Alexis McGill Johnson\">We Can Build A 'Better' Roe v. Wade, Says Planned Parenthood's Alexis McGill Johnson</span><span class=\"byline__duration\">| 9:41</span></h3></div></a>, <a class=\"headlink\" data-ga-track=\"Channel - Block B - video - Position 2 - India Expels Canadian Diplomat As Row Over Assassination Of Sikh Leader Escalates\" href=\"https://www.forbes.com/video/6337429745112/\"><div class=\"wrap-text\"><h3 class=\"video-h3--dense\" data-ga-track=\"Channel - Block B - video - Position 2 - India Expels Canadian Diplomat As Row Over Assassination Of Sikh Leader Escalates\"><span class=\"video-title\" data-ga-track=\"Channel - Block B - video - Position 2 - India Expels Canadian Diplomat As Row Over Assassination Of Sikh Leader Escalates\">India Expels Canadian Diplomat As Row Over Assassination Of Sikh Leader Escalates</span><span class=\"byline__duration\">| 3:02</span></h3></div></a>, <a class=\"headlink\" data-ga-track=\"Channel - Block B - video - Position 3 - We Can Fix The Funding Gap: Here's How\" href=\"https://www.forbes.com/video/6337387371112/\"><div class=\"wrap-text\"><h3 class=\"video-h3--dense\" data-ga-track=\"Channel - Block B - video - Position 3 - We Can Fix The Funding Gap: Here's How\"><span class=\"video-title\" data-ga-track=\"Channel - Block B - video - Position 3 - We Can Fix The Funding Gap: Here's How\">We Can Fix The Funding Gap: Here's How</span><span class=\"byline__duration\">| 5:44</span></h3></div></a>]\n"
          ]
        }
      ]
    },
    {
      "cell_type": "code",
      "source": [
        "# Make link clean\n",
        "links=[]\n",
        "for a in soup.select('a.headlink'):\n",
        "  links.append(a.attrs.get('href'))\n",
        "\n",
        "  print(links[0])\n"
      ],
      "metadata": {
        "colab": {
          "base_uri": "https://localhost:8080/"
        },
        "id": "KKFKPCFDvK0E",
        "outputId": "a441c2ed-d251-4395-b94e-aed88592ca16"
      },
      "execution_count": 26,
      "outputs": [
        {
          "output_type": "stream",
          "name": "stdout",
          "text": [
            "https://www.forbes.com/sites/chloesorvino/2023/09/20/the-drive-thru-billionaire-whos-trying-to-save-subway/\n",
            "https://www.forbes.com/sites/chloesorvino/2023/09/20/the-drive-thru-billionaire-whos-trying-to-save-subway/\n",
            "https://www.forbes.com/sites/chloesorvino/2023/09/20/the-drive-thru-billionaire-whos-trying-to-save-subway/\n",
            "https://www.forbes.com/sites/chloesorvino/2023/09/20/the-drive-thru-billionaire-whos-trying-to-save-subway/\n",
            "https://www.forbes.com/sites/chloesorvino/2023/09/20/the-drive-thru-billionaire-whos-trying-to-save-subway/\n"
          ]
        }
      ]
    },
    {
      "cell_type": "code",
      "source": [
        "# Use of loop\n",
        "article_title=[]\n",
        "links=[]\n",
        "\n",
        "for t in soup.select('a.headlink'):\n",
        "  article_title.append(t.get_text())\n",
        "  links.append(t.attrs.get('href'))\n",
        "\n",
        "  print (article_title)\n",
        "  print (links)"
      ],
      "metadata": {
        "colab": {
          "base_uri": "https://localhost:8080/"
        },
        "id": "BXXtSvuNvO4x",
        "outputId": "1877f005-53f8-443d-c4ae-95294f8af77a"
      },
      "execution_count": 27,
      "outputs": [
        {
          "output_type": "stream",
          "name": "stdout",
          "text": [
            "['The Drive-Thru Billionaire Who’s Trying To Save Subway']\n",
            "['https://www.forbes.com/sites/chloesorvino/2023/09/20/the-drive-thru-billionaire-whos-trying-to-save-subway/']\n",
            "['The Drive-Thru Billionaire Who’s Trying To Save Subway', 'The Lawyer Taking On The Class Action Racket']\n",
            "['https://www.forbes.com/sites/chloesorvino/2023/09/20/the-drive-thru-billionaire-whos-trying-to-save-subway/', 'https://www.forbes.com/sites/baldwin/2023/09/20/the-lawyer-taking-on-the-class-action-racket/']\n",
            "['The Drive-Thru Billionaire Who’s Trying To Save Subway', 'The Lawyer Taking On The Class Action Racket', \"We Can Build A 'Better' Roe v. Wade, Says Planned Parenthood's Alexis McGill Johnson| 9:41\"]\n",
            "['https://www.forbes.com/sites/chloesorvino/2023/09/20/the-drive-thru-billionaire-whos-trying-to-save-subway/', 'https://www.forbes.com/sites/baldwin/2023/09/20/the-lawyer-taking-on-the-class-action-racket/', 'https://www.forbes.com/video/6337381442112/']\n",
            "['The Drive-Thru Billionaire Who’s Trying To Save Subway', 'The Lawyer Taking On The Class Action Racket', \"We Can Build A 'Better' Roe v. Wade, Says Planned Parenthood's Alexis McGill Johnson| 9:41\", 'India Expels Canadian Diplomat As Row Over Assassination Of Sikh Leader Escalates| 3:02']\n",
            "['https://www.forbes.com/sites/chloesorvino/2023/09/20/the-drive-thru-billionaire-whos-trying-to-save-subway/', 'https://www.forbes.com/sites/baldwin/2023/09/20/the-lawyer-taking-on-the-class-action-racket/', 'https://www.forbes.com/video/6337381442112/', 'https://www.forbes.com/video/6337429745112/']\n",
            "['The Drive-Thru Billionaire Who’s Trying To Save Subway', 'The Lawyer Taking On The Class Action Racket', \"We Can Build A 'Better' Roe v. Wade, Says Planned Parenthood's Alexis McGill Johnson| 9:41\", 'India Expels Canadian Diplomat As Row Over Assassination Of Sikh Leader Escalates| 3:02', \"We Can Fix The Funding Gap: Here's How| 5:44\"]\n",
            "['https://www.forbes.com/sites/chloesorvino/2023/09/20/the-drive-thru-billionaire-whos-trying-to-save-subway/', 'https://www.forbes.com/sites/baldwin/2023/09/20/the-lawyer-taking-on-the-class-action-racket/', 'https://www.forbes.com/video/6337381442112/', 'https://www.forbes.com/video/6337429745112/', 'https://www.forbes.com/video/6337387371112/']\n"
          ]
        }
      ]
    },
    {
      "cell_type": "code",
      "source": [
        "# End Link\n",
        "df = pd.DataFrame(\n",
        "    {'article title': article_title,\n",
        "     'links': links}\n",
        "    )\n",
        "print (df.head())\n",
        "\n",
        "df.to_csv('Forbes.csv', index=False)"
      ],
      "metadata": {
        "colab": {
          "base_uri": "https://localhost:8080/"
        },
        "id": "vS5LZctQvVBQ",
        "outputId": "b7167f1d-3b18-46a2-d7d0-b99bea5ca2d3"
      },
      "execution_count": 28,
      "outputs": [
        {
          "output_type": "stream",
          "name": "stdout",
          "text": [
            "                                       article title  \\\n",
            "0  The Drive-Thru Billionaire Who’s Trying To Sav...   \n",
            "1       The Lawyer Taking On The Class Action Racket   \n",
            "2  We Can Build A 'Better' Roe v. Wade, Says Plan...   \n",
            "3  India Expels Canadian Diplomat As Row Over Ass...   \n",
            "4       We Can Fix The Funding Gap: Here's How| 5:44   \n",
            "\n",
            "                                               links  \n",
            "0  https://www.forbes.com/sites/chloesorvino/2023...  \n",
            "1  https://www.forbes.com/sites/baldwin/2023/09/2...  \n",
            "2        https://www.forbes.com/video/6337381442112/  \n",
            "3        https://www.forbes.com/video/6337429745112/  \n",
            "4        https://www.forbes.com/video/6337387371112/  \n"
          ]
        }
      ]
    }
  ]
}